{
 "cells": [
  {
   "cell_type": "code",
   "execution_count": 1,
   "id": "777abb67",
   "metadata": {},
   "outputs": [],
   "source": [
    "import csv\n",
    "with open('sightings.csv', 'r') as infile:\n",
    "    reader = csv.reader(infile)\n",
    "    names = reader.__next__()\n",
    "    sightings = [dict([(names[i], r[i]) for i in range(len(r))]) for r in reader]\n"
   ]
  },
  {
   "cell_type": "code",
   "execution_count": 4,
   "id": "9622d4cd",
   "metadata": {},
   "outputs": [],
   "source": [
    "SKEY = 'S..19.'\n",
    "EKEY = 'E..23.'\n",
    "SQUARE_SIZE = 0.1/2"
   ]
  },
  {
   "cell_type": "code",
   "execution_count": null,
   "id": "27e607c8",
   "metadata": {},
   "outputs": [],
   "source": [
    "# connect to the API\n",
    "from sentinelsat import SentinelAPI, read_geojson, geojson_to_wkt\n",
    "from datetime import date\n",
    "import geojson\n",
    "import webbrowser\n",
    "\n",
    "api = SentinelAPI('jfhannel', 'egk3MFT3dma.dhp9dmp', 'https://scihub.copernicus.eu/dhus')\n",
    "\n",
    "# download single scene by known product id\n",
    "# api.download(<product_id>)\n",
    "\n",
    "for i in range(10):\n",
    "    s = -float(sightings[i][SKEY])\n",
    "    e = float(sightings[i][EKEY])\n",
    "    \n",
    "    point_square = geojson.Polygon([[\n",
    "        (s-SQUARE_SIZE, e-SQUARE_SIZE),\n",
    "        (s-SQUARE_SIZE, e+SQUARE_SIZE),\n",
    "        (s+SQUARE_SIZE, e+SQUARE_SIZE),\n",
    "        (s+SQUARE_SIZE, e-SQUARE_SIZE),\n",
    "        (s-SQUARE_SIZE, e-SQUARE_SIZE),\n",
    "    ]])\n",
    "    # search by polygon, time, and SciHub query keywords\n",
    "    #footprint = geojson_to_wkt(read_geojson('/path/to/map.geojson'))\n",
    "    products = api.query(geojson_to_wkt(point_square),\n",
    "                         date=(date(2015, 12, 1), date(2015, 12, 29)),\n",
    "                         platformname='Sentinel-2')\n",
    "    for pid, _ in products.items():\n",
    "        data = api.get_product_odata(pid)\n",
    "        webbrowser.open(data['quicklook_url'])\n",
    "\n",
    "# download all results from the search\n",
    "#api.download_all(products)\n",
    "\n",
    "# convert to Pandas DataFrame\n",
    "#products_df = api.to_dataframe(products)\n",
    "import pdb; pdb.set_trace()\n",
    "\n",
    "# GeoJSON FeatureCollection containing footprints and metadata of the scenes\n",
    "#api.to_geojson(products)\n",
    "\n",
    "# GeoPandas GeoDataFrame with the metadata of the scenes and the footprints as geometries\n",
    "#api.to_geodataframe(products)\n",
    "\n",
    "# Get basic information about the product: its title, file size, MD5 sum, date, footprint and\n",
    "# its download url\n",
    "#api.get_product_odata(<product_id>)\n",
    "\n",
    "# Get the product's full metadata available on the server\n",
    "#api.get_product_odata(<product_id>, full=True)"
   ]
  },
  {
   "cell_type": "code",
   "execution_count": null,
   "id": "341e65c6",
   "metadata": {},
   "outputs": [],
   "source": [
    "import numpy as np\n",
    "import matplotlib.pyplot as plt\n",
    "import scipy.stats as st\n",
    "from sklearn.datasets.samples_generator import make_blobs\n",
    "import pandas as pd\n",
    "\n",
    "first = pd.Series([s['S..19.'] for s in sightings])\n",
    "second = pd.Series([s['E..23.'] for s in sightings])\n",
    "plt.scatter(first, second)\n",
    "plt.title(f\"S..19. / E..23. columns\")\n",
    "plt.xlabel(\"S..19.\")\n",
    "plt.ylabel(\"E..23.\");"
   ]
  },
  {
   "cell_type": "code",
   "execution_count": null,
   "id": "40492a5d",
   "metadata": {},
   "outputs": [],
   "source": []
  }
 ],
 "metadata": {
  "kernelspec": {
   "display_name": "Python [conda env:wild]",
   "language": "python",
   "name": "conda-env-wild-py"
  },
  "language_info": {
   "codemirror_mode": {
    "name": "ipython",
    "version": 3
   },
   "file_extension": ".py",
   "mimetype": "text/x-python",
   "name": "python",
   "nbconvert_exporter": "python",
   "pygments_lexer": "ipython3",
   "version": "3.10.4"
  }
 },
 "nbformat": 4,
 "nbformat_minor": 5
}
